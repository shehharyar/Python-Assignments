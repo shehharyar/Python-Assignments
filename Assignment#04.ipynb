{
 "cells": [
  {
   "cell_type": "markdown",
   "id": "fd6e287e",
   "metadata": {},
   "source": [
    "# 1. Make a calculator using Python with addition , subtraction , multiplication ,division and power."
   ]
  },
  {
   "cell_type": "code",
   "execution_count": 1,
   "id": "74c4b448",
   "metadata": {},
   "outputs": [
    {
     "name": "stdout",
     "output_type": "stream",
     "text": [
      " + for addition\n",
      " - for subtraction\n",
      " x for multiplication\n",
      " / for division\n",
      " ^ for power\n",
      "Enter your first operand 5\n",
      "Enter your second operand 8\n",
      "Enter operator  ^\n",
      "390625\n"
     ]
    }
   ],
   "source": [
    "print(\" + for addition\")\n",
    "print(\" - for subtraction\")\n",
    "print(\" x for multiplication\")\n",
    "print(\" / for division\")\n",
    "print(\" ^ for power\")\n",
    "\n",
    "\n",
    "\n",
    "first_operand=int(input(\"Enter your first operand \"))\n",
    "second_operand=int(input(\"Enter your second operand \"))\n",
    "operator=input(\"Enter operator  \")\n",
    "\n",
    "if operator == '+':\n",
    "    res= first_operand + second_operand\n",
    "    print(res)\n",
    "elif operator == '-':\n",
    "    res= first_operand - second_operand\n",
    "    print(res)\n",
    "elif operator == 'x':\n",
    "    res= first_operand * second_operand\n",
    "    print(res)\n",
    "elif operator == '/':\n",
    "    res= first_operand / second_operand\n",
    "    print(res)\n",
    "elif operator == '^':\n",
    "    res= first_operand ** second_operand\n",
    "    print(res)\n",
    "else:\n",
    "    print(\"invalid operator\")"
   ]
  },
  {
   "cell_type": "markdown",
   "id": "59dab86f",
   "metadata": {},
   "source": [
    "# 2. Write a program to check if there is any numeric value in list using for loop."
   ]
  },
  {
   "cell_type": "code",
   "execution_count": 3,
   "id": "80b4c163",
   "metadata": {},
   "outputs": [
    {
     "name": "stdout",
     "output_type": "stream",
     "text": [
      "Numeric value ==>  4\n",
      "Numeric value ==>  12\n"
     ]
    }
   ],
   "source": [
    "list=[\"Car\", \"Motor\", 4,6.8,'c', 12]\n",
    "for i in list:\n",
    "    if type(i) == int:\n",
    "        print(\"Numeric value ==> \",i)"
   ]
  },
  {
   "cell_type": "markdown",
   "id": "dbd6d82e",
   "metadata": {},
   "source": [
    "# 3. Write a Python script to add a key to a dictionary."
   ]
  },
  {
   "cell_type": "code",
   "execution_count": 4,
   "id": "47ad333c",
   "metadata": {},
   "outputs": [
    {
     "name": "stdout",
     "output_type": "stream",
     "text": [
      "{'car': 1000, 'motor_bike': 1300, 'Bus': 1400, 'mobile': '1400'}\n"
     ]
    }
   ],
   "source": [
    "dictionary ={'car' : 1000, 'motor_bike': 1300, 'Bus' : 1400}\n",
    "dictionary.update({'mobile':'1400'})\n",
    "print(dictionary)"
   ]
  },
  {
   "cell_type": "markdown",
   "id": "cc2615ac",
   "metadata": {},
   "source": [
    "# Q4 Write a python program to sum all the numeric items in a dictionary."
   ]
  },
  {
   "cell_type": "code",
   "execution_count": 5,
   "id": "c0a18743",
   "metadata": {},
   "outputs": [
    {
     "name": "stdout",
     "output_type": "stream",
     "text": [
      "3700\n"
     ]
    }
   ],
   "source": [
    "dictionary ={'car' : 1000, 'motor_bike': 1300, 'Bus' : 1400}\n",
    "sum_of_numeric_items= sum(dictionary.values())\n",
    "print(sum_of_numeric_items)"
   ]
  },
  {
   "cell_type": "markdown",
   "id": "f4027c77",
   "metadata": {},
   "source": [
    "# Q 5 Write a program to identify the duplicates in a list"
   ]
  },
  {
   "cell_type": "code",
   "execution_count": 6,
   "id": "49e53390",
   "metadata": {},
   "outputs": [
    {
     "name": "stdout",
     "output_type": "stream",
     "text": [
      "20\n",
      "30\n",
      "40\n",
      "50\n",
      "70\n"
     ]
    }
   ],
   "source": [
    "list = [20, 30, 40, 10, 20, 30, 40, 50, 50, 70, 80, 60, 70]\n",
    "duplicates_in_list=[]\n",
    "for i in list:\n",
    "    if i not in duplicates_in_list:\n",
    "        duplicates_in_list.append(i)\n",
    "    else:\n",
    "        print(i)"
   ]
  },
  {
   "cell_type": "markdown",
   "id": "66d63e9b",
   "metadata": {},
   "source": [
    "# 6. Write a Python script to check if a given key already exists in a dictionary"
   ]
  },
  {
   "cell_type": "code",
   "execution_count": 7,
   "id": "23d44ceb",
   "metadata": {},
   "outputs": [
    {
     "name": "stdout",
     "output_type": "stream",
     "text": [
      "key  exists\n",
      "key  exists\n"
     ]
    }
   ],
   "source": [
    "dic = {'car': '1200', 'bus': '100', 'mobile':'1500'}\n",
    "def check_existence_of_key(i):\n",
    "    if i in dic:\n",
    "        print(\"key  exists\")\n",
    "    else:\n",
    "        print(\"Key doesn't exist\")\n",
    "\n",
    "check_existence_of_key('car')\n",
    "check_existence_of_key(\"bus\")"
   ]
  },
  {
   "cell_type": "code",
   "execution_count": null,
   "id": "745f0dfd",
   "metadata": {},
   "outputs": [],
   "source": []
  }
 ],
 "metadata": {
  "kernelspec": {
   "display_name": "Python 3",
   "language": "python",
   "name": "python3"
  },
  "language_info": {
   "codemirror_mode": {
    "name": "ipython",
    "version": 3
   },
   "file_extension": ".py",
   "mimetype": "text/x-python",
   "name": "python",
   "nbconvert_exporter": "python",
   "pygments_lexer": "ipython3",
   "version": "3.8.8"
  }
 },
 "nbformat": 4,
 "nbformat_minor": 5
}
