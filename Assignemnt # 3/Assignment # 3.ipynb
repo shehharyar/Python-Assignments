{
 "cells": [
  {
   "cell_type": "code",
   "execution_count": 1,
   "id": "bbfa5eb4",
   "metadata": {},
   "outputs": [
    {
     "name": "stdout",
     "output_type": "stream",
     "text": [
      "Twinkle, twinkle little star,\n",
      "\t How I wonder what you are! \n",
      "\t \t Up above the world so high\n",
      "\t \t Like a diamond in the sky.\n",
      "Twinkle, twinkle little star,\n",
      "\t How I wonder what you are! \n"
     ]
    }
   ],
   "source": [
    "# Q1 . Write a program to print the following string in a specific format>\n",
    "# Twinkle, twinkle little star,\n",
    "# \t How I wonder what you are! \n",
    "# \t \t Up above the world so high\n",
    "# \t \t Like a diamond in the sky.\n",
    "# Twinkle, twinkle little star,\n",
    "# \t How I wonder what you are! \n",
    "\n",
    "print(\"Twinkle, twinkle little star,\")\n",
    "print(\"\\t How I wonder what you are! \")\n",
    "print(\"\\t \\t Up above the world so high\")\n",
    "print(\"\\t \\t Like a diamond in the sky.\")\n",
    "print(\"Twinkle, twinkle little star,\")\n",
    "print(\"\\t How I wonder what you are! \")"
   ]
  },
  {
   "cell_type": "code",
   "execution_count": 2,
   "id": "48e02af1",
   "metadata": {},
   "outputs": [
    {
     "name": "stdout",
     "output_type": "stream",
     "text": [
      "PYTHON VERSION == >  3.8.8 (default, Apr 13 2021, 15:08:03) [MSC v.1916 64 bit (AMD64)]\n"
     ]
    }
   ],
   "source": [
    "# Q 2/. Write a python program to get the python version you are using\n",
    "\n",
    "import sys\n",
    "print(\"PYTHON VERSION == >  \" + sys.version)"
   ]
  },
  {
   "cell_type": "code",
   "execution_count": 3,
   "id": "e3223b20",
   "metadata": {},
   "outputs": [
    {
     "name": "stdout",
     "output_type": "stream",
     "text": [
      "Current date and time = 23/10/2021 04:21:53\n"
     ]
    }
   ],
   "source": [
    "# Q 3. Write a python program to display current date and time.\n",
    "\n",
    "from datetime import datetime\n",
    "\n",
    "today = datetime.today()\n",
    "dt_string = today.strftime(\"%d/%m/%Y %H:%M:%S\")\n",
    "print(\"Current date and time =\", dt_string)\n"
   ]
  },
  {
   "cell_type": "code",
   "execution_count": 4,
   "id": "38587726",
   "metadata": {},
   "outputs": [
    {
     "name": "stdout",
     "output_type": "stream",
     "text": [
      "Enter the radius of circle : 2.5\n",
      "Area of a circle of radius 2.5 is 19.6375. \n"
     ]
    }
   ],
   "source": [
    "# Q 4. Wite a python program which accepts radius of a circle from the user and Compute the area.\n",
    "\n",
    "radius = float(input(\"Enter the radius of circle : \"))\n",
    "pi = 3.142\n",
    "area= (pi * (radius**2))\n",
    "print(f\"Area of a circle of radius {radius} is {area}. \") "
   ]
  },
  {
   "cell_type": "code",
   "execution_count": 5,
   "id": "06237c4f",
   "metadata": {
    "scrolled": true
   },
   "outputs": [
    {
     "name": "stdout",
     "output_type": "stream",
     "text": [
      "Enter your first name: Muhammad\n",
      "Enter your last name: Ali\n",
      "Ali Muhammad\n"
     ]
    }
   ],
   "source": [
    "# Q 5. Write a python program which accepts the user's first and last name and print them in reverse order \n",
    "# with a space between them.\n",
    "\n",
    "first_Name = input(\"Enter your first name: \")\n",
    "last_Name = input(\"Enter your last name: \") \n",
    "print(f\"{last_Name} {first_Name}\")\n"
   ]
  },
  {
   "cell_type": "code",
   "execution_count": 6,
   "id": "4730ce08",
   "metadata": {
    "scrolled": true
   },
   "outputs": [
    {
     "name": "stdout",
     "output_type": "stream",
     "text": [
      "Enter first number: 2\n",
      "Enter second number: 12\n",
      "14\n"
     ]
    }
   ],
   "source": [
    "# Q 6. Write a python program which takes two inputs from user and addition them.\n",
    "a = int(input(\"Enter first number: \"))\n",
    "b = int(input(\"Enter second number: \"))\n",
    "c= a+b\n",
    "print(c)\n"
   ]
  },
  {
   "cell_type": "code",
   "execution_count": 7,
   "id": "c2df768f",
   "metadata": {
    "scrolled": true
   },
   "outputs": [
    {
     "name": "stdout",
     "output_type": "stream",
     "text": [
      "Enter English Marks : 79\n",
      "Enter Islamiat Marks : 89\n",
      "Enter Maths Marks : 89\n",
      "Enter Physics Marks : 96\n",
      "Enter Computer Sci. Marks : 90\n",
      "A- grade\n"
     ]
    }
   ],
   "source": [
    "# Q 7 . Write a program which takes 5 inputs from user for different subject's marks, total it and generate mark sheet\n",
    "#       using grades?\n",
    "\n",
    "\n",
    "eng = int(input(\"Enter English Marks : \"))\n",
    "isl = int(input(\"Enter Islamiat Marks : \"))\n",
    "maths = int(input(\"Enter Maths Marks : \"))\n",
    "phys  = int(input(\"Enter Physics Marks : \"))\n",
    "comp = int(input(\"Enter Computer Sci. Marks : \"))\n",
    "total_marks= 500\n",
    "obt_marks = eng + isl + maths + phys + comp\n",
    "percent = (obt_marks / total_marks) * 100\n",
    "\n",
    "if percent >=90 and percent <=100:\n",
    "    print(\"A+ grade\")\n",
    "elif percent >=80 and percent < 90:\n",
    "    print(\"A- grade\")\n",
    "elif percent >=70 and percent < 80:\n",
    "    print(\"B+ grade\")\n",
    "elif percent >=60 and percent < 70:\n",
    "    print(\"B- grade\")\n",
    "elif percent >= 50 and percent < 60:\n",
    "    print(\"C grade\")\n",
    "elif percent >=40 and percent < 50:\n",
    "    print(\"D grade\")\n",
    "elif percent >= 33 and percent < 40:\n",
    "    print(\"E grade\")\n",
    "elif obt_marks < 0 or obt_marks > total_marks :\n",
    "    print(\"Invalid number.....\")\n",
    "else:\n",
    "    print(\"Fail\")"
   ]
  },
  {
   "cell_type": "code",
   "execution_count": 8,
   "id": "ba54205f",
   "metadata": {},
   "outputs": [
    {
     "name": "stdout",
     "output_type": "stream",
     "text": [
      "Enter any number : 3\n",
      "Odd number\n"
     ]
    }
   ],
   "source": [
    "# Q 8. Write a program which takes input from user and identify that the given number is even or odd?\n",
    "num = int(input(\"Enter any number : \"))\n",
    "if num%2 == 0:\n",
    "    print(\"Even number\")\n",
    "else:\n",
    "    print(\"Odd number\")\n",
    "\n"
   ]
  },
  {
   "cell_type": "code",
   "execution_count": 9,
   "id": "02f4f0cc",
   "metadata": {},
   "outputs": [
    {
     "name": "stdout",
     "output_type": "stream",
     "text": [
      "Length of a list is :  6\n"
     ]
    }
   ],
   "source": [
    "# Q 9. Write a program which print te length of the list?\n",
    "a = [2 , 5, 12, 8, 9, 10]\n",
    "length = 0\n",
    "for i in a:\n",
    "    length = length + 1\n",
    "print(\"Length of a list is : \", length)"
   ]
  },
  {
   "cell_type": "code",
   "execution_count": 10,
   "id": "9c59bc54",
   "metadata": {},
   "outputs": [
    {
     "name": "stdout",
     "output_type": "stream",
     "text": [
      "Sum of all numeric items of list is :  39\n"
     ]
    }
   ],
   "source": [
    "# Q 10. Write a python program to sum all the numeric items of the list?\n",
    "\n",
    "items = [2, 6, 12, 9, 10]\n",
    "sum = 0\n",
    "for item in items:\n",
    "    sum += item\n",
    "print(\"Sum of all numeric items of list is : \",sum)"
   ]
  },
  {
   "cell_type": "code",
   "execution_count": 11,
   "id": "41bda07a",
   "metadata": {},
   "outputs": [
    {
     "name": "stdout",
     "output_type": "stream",
     "text": [
      "22\n"
     ]
    }
   ],
   "source": [
    "# Q 11. Write a python program to get the largest number from the list?\n",
    "a = [12, 6, 8, 22, 6, 8]\n",
    "\n",
    "largest = a[0]\n",
    "for i in a:\n",
    "    if i > largest :\n",
    "         largest = i\n",
    "print(largest)\n"
   ]
  },
  {
   "cell_type": "code",
   "execution_count": 12,
   "id": "53f25311",
   "metadata": {},
   "outputs": [
    {
     "name": "stdout",
     "output_type": "stream",
     "text": [
      "1\n",
      "1\n",
      "2\n",
      "3\n"
     ]
    }
   ],
   "source": [
    "# Q 12. Take a list, say for example this one:\n",
    "#         a = [1, 1, 2, 3, 5, 8, 13, 21, 34, 55, 89]\n",
    "# Write a program that prints out all the elements of the list that are less than 5.\n",
    "\n",
    "a = [1, 1, 2, 3, 5, 8, 13, 21, 34, 55, 89]\n",
    "for i in a:\n",
    "    if i < 5:\n",
    "        print(i)"
   ]
  },
  {
   "cell_type": "code",
   "execution_count": null,
   "id": "506a3cca",
   "metadata": {},
   "outputs": [],
   "source": []
  }
 ],
 "metadata": {
  "kernelspec": {
   "display_name": "Python 3",
   "language": "python",
   "name": "python3"
  },
  "language_info": {
   "codemirror_mode": {
    "name": "ipython",
    "version": 3
   },
   "file_extension": ".py",
   "mimetype": "text/x-python",
   "name": "python",
   "nbconvert_exporter": "python",
   "pygments_lexer": "ipython3",
   "version": "3.8.8"
  }
 },
 "nbformat": 4,
 "nbformat_minor": 5
}
